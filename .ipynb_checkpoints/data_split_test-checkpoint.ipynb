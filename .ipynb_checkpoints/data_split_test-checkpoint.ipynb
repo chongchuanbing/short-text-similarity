{
 "cells": [
  {
   "cell_type": "code",
   "execution_count": 1,
   "metadata": {},
   "outputs": [],
   "source": [
    "import pandas as pd"
   ]
  },
  {
   "cell_type": "code",
   "execution_count": 12,
   "metadata": {},
   "outputs": [],
   "source": [
    "def __load_data(file_path_arr,\n",
    "                validation_split):\n",
    "    texts_1_train = []\n",
    "    texts_2_train = []\n",
    "    labels_train = []\n",
    "\n",
    "    texts_1_val = []\n",
    "    texts_2_val = []\n",
    "    labels_val = []\n",
    "\n",
    "    df = pd.DataFrame(columns=['q1', 'q2', 'label'])\n",
    "    for file_path_item in file_path_arr:\n",
    "        df_item = pd.read_csv(file_path_item, header=None)\n",
    "        df_item.columns = ['q1', 'q2', 'label']\n",
    "\n",
    "        df = df.append(df_item)\n",
    "    \n",
    "    df_0 = df.loc[df['label']==0,:]\n",
    "    df_1 = df.loc[df['label']==1,:]\n",
    "    \n",
    "    df_0_count = df_0['label'].count()\n",
    "    df_1_count = df_1['label'].count()\n",
    "    \n",
    "    min_count = min(df_0_count, df_1_count)\n",
    "    \n",
    "    df_0_frac = min_count * (validation_split / 2) / df_0_count\n",
    "    df_1_frac = min_count * (validation_split / 2) / df_1_count\n",
    "    \n",
    "    df_0_val = df_0.sample(frac=df_0_frac)\n",
    "    df_1_val = df_1.sample(frac=df_1_frac)\n",
    "    \n",
    "    df_train = df_0.append(df_1)\n",
    "    df_val = df_0_val.append(df_1_val)\n",
    "\n",
    "    df_train = df_train.sample(frac=1)\n",
    "    df_val = df_val.sample(frac=1)\n",
    "    \n",
    "    return df_train, df_val"
   ]
  },
  {
   "cell_type": "code",
   "execution_count": 15,
   "metadata": {},
   "outputs": [
    {
     "name": "stdout",
     "output_type": "stream",
     "text": [
      "q1       100000\n",
      "q2       100000\n",
      "label    100000\n",
      "dtype: int64\n",
      "q1       10000\n",
      "q2       10000\n",
      "label    10000\n",
      "dtype: int64\n"
     ]
    }
   ],
   "source": [
    "file_path_arr = ['./data/train_atec.csv']\n",
    "df_train, df_val = __load_data(file_path_arr, validation_split=0.2)\n",
    "\n",
    "print(df_train.count())\n",
    "print(df_val.count())\n"
   ]
  },
  {
   "cell_type": "code",
   "execution_count": null,
   "metadata": {},
   "outputs": [],
   "source": []
  }
 ],
 "metadata": {
  "kernelspec": {
   "display_name": "Python 3",
   "language": "python",
   "name": "python3"
  },
  "language_info": {
   "codemirror_mode": {
    "name": "ipython",
    "version": 3
   },
   "file_extension": ".py",
   "mimetype": "text/x-python",
   "name": "python",
   "nbconvert_exporter": "python",
   "pygments_lexer": "ipython3",
   "version": "3.6.0"
  },
  "toc": {
   "base_numbering": 1,
   "nav_menu": {},
   "number_sections": true,
   "sideBar": true,
   "skip_h1_title": false,
   "title_cell": "Table of Contents",
   "title_sidebar": "Contents",
   "toc_cell": false,
   "toc_position": {},
   "toc_section_display": true,
   "toc_window_display": false
  }
 },
 "nbformat": 4,
 "nbformat_minor": 2
}
